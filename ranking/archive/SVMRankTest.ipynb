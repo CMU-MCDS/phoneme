{
 "cells": [
  {
   "cell_type": "code",
   "execution_count": 12,
   "metadata": {
    "collapsed": true
   },
   "outputs": [],
   "source": [
    "import numpy as np\n",
    "import pandas as pd\n",
    "all_fea_path = 'feature_machine translation_1106.csv'"
   ]
  },
  {
   "cell_type": "code",
   "execution_count": 13,
   "metadata": {
    "collapsed": true
   },
   "outputs": [],
   "source": [
    "all_feature = pd.read_csv(all_fea_path)\n",
    "feature_array = all_feature.values"
   ]
  },
  {
   "cell_type": "code",
   "execution_count": 44,
   "metadata": {},
   "outputs": [
    {
     "name": "stdout",
     "output_type": "stream",
     "text": [
      "(2364, 17)\n"
     ]
    }
   ],
   "source": [
    "from sklearn.preprocessing import normalize\n",
    "\n",
    "# 1. random \n",
    "\n",
    "# feature_array[:,5:16] = feature_array[:,5:16].astype(float)\n",
    "# normalized = normalize(feature_array[:,5:16], axis=0)\n",
    "# full = np.concatenate(( feature_array[:,[0,1,2,3,4]], normalized), axis=1)\n",
    "full = feature_array\n",
    "print(full.shape)\n",
    "\n",
    "with open('rank_train','w') as f:\n",
    "    pass\n",
    "with open('rank_test','w') as f:\n",
    "    pass"
   ]
  },
  {
   "cell_type": "code",
   "execution_count": 45,
   "metadata": {},
   "outputs": [
    {
     "name": "stdout",
     "output_type": "stream",
     "text": [
      "70% train 37\n",
      "17\n",
      "<class 'numpy.ndarray'> ['bos' 'epo' 'ukr' 'kat' 'ita' 'por' 'mar' 'nld' 'ind' 'mkd' 'sqi' 'mya'\n",
      " 'deu' 'heb' 'hun' 'hye' 'msa' 'lit' 'cmn' 'slv' 'fas' 'vie' 'tur' 'hin'\n",
      " 'ron' 'aze' 'spa' 'fra' 'swe' 'fin' 'tha' 'ara' 'srp' 'eus' 'kor' 'jpn'\n",
      " 'bul']\n",
      "<class 'numpy.ndarray'> ['dan' 'ben' 'ces' 'slk' 'est' 'pol' 'bel' 'kur' 'urd' 'ell' 'nob' 'mon'\n",
      " 'tam' 'kaz' 'rus' 'glg' 'hrv']\n"
     ]
    }
   ],
   "source": [
    "all_lang = np.unique(full[:,1])\n",
    "np.random.shuffle(all_lang)\n",
    "train_length = int(0.7 * len(all_lang))\n",
    "print(\"70% train\", train_length)\n",
    "train_lang = all_lang[:train_length]\n",
    "test_lang = all_lang[train_length:]\n",
    "print(len(test_lang))\n",
    "print(type(train_lang), train_lang)\n",
    "print(type(test_lang), test_lang)"
   ]
  },
  {
   "cell_type": "code",
   "execution_count": 46,
   "metadata": {},
   "outputs": [
    {
     "name": "stdout",
     "output_type": "stream",
     "text": [
      "continue: 555\n"
     ]
    }
   ],
   "source": [
    "#Training\n",
    "idx = 0\n",
    "q_num = 1\n",
    "qs = {}\n",
    "ct = 0\n",
    "for row in full:\n",
    "    qid = row[0]\n",
    "    target = row[1]\n",
    "    training = row[2]\n",
    "    if target not in test_lang and training in test_lang:\n",
    "        ct += 1\n",
    "        continue\n",
    "#     if target not in qs: #get qid\n",
    "#         qs[target] = q_num\n",
    "#         q_num += 1\n",
    "#     rank= float(row[3])\n",
    "#     rank = str(rank)\n",
    "    rank = row[4]\n",
    "    if rank > 10:\n",
    "        rank = 11\n",
    "    rank = str(rank)\n",
    "    feature = row[5:len(row)]\n",
    "    feature_dict = {k + 1: v for k, v in enumerate(feature)}\n",
    "    out = [rank, \"qid:\"+ str(qid)]\n",
    "    out.extend([str(k)+\":\"+str(v) for k,v in feature_dict.items()])\n",
    "    if target in train_lang:\n",
    "        with open('rank_train','a') as f:\n",
    "            f.write(\"\\t\".join(out)+\"\\n\")\n",
    "    else:\n",
    "        with open('rank_test','a') as f:\n",
    "            f.write(\"\\t\".join(out)+\"\\n\")\n",
    "    idx += 1\n",
    "print('continue:', ct)"
   ]
  },
  {
   "cell_type": "code",
   "execution_count": 29,
   "metadata": {
    "collapsed": true
   },
   "outputs": [],
   "source": [
    "with open('output','w') as f:\n",
    "    pass"
   ]
  }
 ],
 "metadata": {
  "kernelspec": {
   "display_name": "Python 3",
   "language": "python",
   "name": "python3"
  },
  "language_info": {
   "codemirror_mode": {
    "name": "ipython",
    "version": 3
   },
   "file_extension": ".py",
   "mimetype": "text/x-python",
   "name": "python",
   "nbconvert_exporter": "python",
   "pygments_lexer": "ipython3",
   "version": "3.6.3"
  }
 },
 "nbformat": 4,
 "nbformat_minor": 2
}
